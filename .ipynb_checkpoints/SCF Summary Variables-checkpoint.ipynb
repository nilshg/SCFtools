{
 "cells": [
  {
   "cell_type": "markdown",
   "metadata": {},
   "source": [
    "# SCF Summary variable construction 1989-2013\n",
    "\n",
    "This notebook is an annotated Python version of the [Federal Reserve SAS Macro](http://www.federalreserve.gov/econresdata/scf/files/bulletin.macro.txt) that reproduces the core variables used in the Fed Macro Bulletins. It is accompanied by a Python script that does the sasme things as the notebook but is callable as a simple function taking as input an SCF data file and outputting a file containing all summary statistics. \n",
    "\n",
    "The three basic steps are\n",
    "<a id=\"index\"></a>\n",
    "1. Create [household demographic variables](#demographics)\n",
    "2. Consolidate [household assets](#asset)\n",
    "3. Consolidate [household liabilities](#debt)"
   ]
  },
  {
   "cell_type": "code",
   "execution_count": 1,
   "metadata": {
    "collapsed": false
   },
   "outputs": [],
   "source": [
    "import numpy as np\n",
    "import pandas as pd\n",
    "import matplotlib.pyplot as plt\n",
    "%matplotlib inline\n",
    "import seaborn as sns"
   ]
  },
  {
   "cell_type": "code",
   "execution_count": null,
   "metadata": {
    "collapsed": false
   },
   "outputs": [],
   "source": [
    "year = 2013\n",
    "if (year!=2013)&(year!=2004):\n",
    "    df = pd.read_stata('/Users/tew207/Desktop/PhD Data/SCF/tax'+str(year)+'.dta')\n",
    "else:\n",
    "    df = pd.read_stata('/Users/tew207/Desktop/PhD Data/SCF/scf'+str(year)+'.dta')\n",
    "\n",
    "CPI_U_RS = {1983:155.6, 1989:190.2, 1992:211.6, 1995:226.5, 1998:240.5, \n",
    "            2001:261.8, 2004:278.8, 2007:306.2, 2010:320.8, 2013:343.8}\n",
    "\n",
    "def deflate(CPI_dict, baseyear = 2013):\n",
    "    for year in CPI_dict:\n",
    "        if year != baseyear:\n",
    "            CPI_dict[year] = CPI_dict[year]/CPI_dict[baseyear]\n",
    "\n",
    "CPI_deflator = deflate(CPI_U_RS, baseyear = year)\n",
    "\n",
    "def wmean(series):\n",
    "    return sum(series*df.wgt/sum(df.wgt))\n",
    "            \n",
    "if year == 1989:\n",
    "    df.rename(columns = {'XX1':'IID'}, inplace=True)\n",
    "else:\n",
    "    df.rename(columns = {'YY1':'IID'}, inplace=True)\n",
    "    \n",
    "# only keep observations with valid ID and weight\n",
    "cond = (df.X42001 > 0) & (df.IID > 0)\n",
    "if len(df[~cond])>0: \n",
    "    print \"Dropped\",len(df[~cond]),\"observations without valid weight or ID\"\n",
    "df = df[(df.X42001 > 0) & (df.IID > 0)]\n",
    "\n",
    "# Divide weight by 5 so totals estimated on the 5 implicates jointly are correct\n",
    "df['wgt'] = df.X42001/5\n",
    "\n",
    "# Retain original weight: df.wgt0\n",
    "df['wgt0'] = df.X42001"
   ]
  },
  {
   "cell_type": "markdown",
   "metadata": {},
   "source": [
    "## Demographic variables <a id=\"demographics\"></a>\n",
    "<a href=\"#index\">Back to index</a>"
   ]
  },
  {
   "cell_type": "code",
   "execution_count": null,
   "metadata": {
    "collapsed": true
   },
   "outputs": [],
   "source": [
    "df.rename(columns = {'X8021': 'hhsex', 'X14':'age', 'X5901':'educ', }, inplace=True)"
   ]
  },
  {
   "cell_type": "markdown",
   "metadata": {},
   "source": [
    "**Categorical age variable:**\n",
    "1. Younger than 35\n",
    "2. 35 - 44\n",
    "3. 45 - 54\n",
    "4. 55 - 64\n",
    "5. 65 - 74\n",
    "6. Older than 74"
   ]
  },
  {
   "cell_type": "code",
   "execution_count": null,
   "metadata": {
    "collapsed": true
   },
   "outputs": [],
   "source": [
    "df['agecl'] = (1 + (df.age>34).astype(int) + (df.age>44).astype(int) + (df.age>54).astype(int) \n",
    "                 + (df.age>64).astype(int) + (df.age>74).astype(int) ) "
   ]
  },
  {
   "cell_type": "markdown",
   "metadata": {},
   "source": [
    "**Categorical education variable:**\n",
    "1. No high school\n",
    "2. High school / GED\n",
    "3. Some college\n",
    "4. College degree"
   ]
  },
  {
   "cell_type": "code",
   "execution_count": null,
   "metadata": {
    "collapsed": true
   },
   "outputs": [],
   "source": [
    "df['edcl'] = 1\n",
    "df.loc[df.X5904==1, 'edcl'] = 4\n",
    "df.loc[df.educ>12, 'edcl'] = 3\n",
    "df.loc[df.X5902.isin([1,2]), 'edlc'] = 2"
   ]
  },
  {
   "cell_type": "markdown",
   "metadata": {},
   "source": [
    "**Marital status**\n",
    "1. Married / living with partner\n",
    "2. Neither married nor living with partner"
   ]
  },
  {
   "cell_type": "code",
   "execution_count": null,
   "metadata": {
    "collapsed": true
   },
   "outputs": [],
   "source": [
    "df['married'] = 2\n",
    "df.loc[df.X8023.isin([1,2]), 'married'] = 1"
   ]
  },
  {
   "cell_type": "markdown",
   "metadata": {},
   "source": [
    "**Number of children**\n",
    "\n",
    "Note: From 1995 forward information is collected for one fewer household member"
   ]
  },
  {
   "cell_type": "code",
   "execution_count": null,
   "metadata": {
    "collapsed": false
   },
   "outputs": [],
   "source": [
    "kidvars = ['X108', 'X114', 'X120', 'X126', 'X132', 'X202', 'X208', 'X214', 'X220', 'X226']\n",
    "df['kids'] = 0\n",
    "if year < 1995:\n",
    "    for var in kidvars:\n",
    "        df['kids'] += df[var].isin([4,13,36]).astype(int)\n",
    "else:\n",
    "    for var in kidvars[:-1]:\n",
    "        df['kids'] += df[var].isin([4,13,36]).astype(int)"
   ]
  },
  {
   "cell_type": "markdown",
   "metadata": {},
   "source": [
    "**Labor force participation status**\n",
    "<ol start=\"0\">\n",
    "  <li>Not working at all</li>\n",
    "  <li>Working in some way</li>\n",
    "</ol>"
   ]
  },
  {
   "cell_type": "code",
   "execution_count": null,
   "metadata": {
    "collapsed": true
   },
   "outputs": [],
   "source": [
    "df['lf'] = 1\n",
    "df.loc[np.logical_or((df.X4100>=50)&(df.X4100<=80), df.X4100==97), 'lf'] = 0"
   ]
  },
  {
   "cell_type": "markdown",
   "metadata": {},
   "source": [
    "**Life cycle status:**\n",
    "1. Age below 55, not married, no kids\n",
    "2. Age below 55, married, no kids\n",
    "3. Age below 55, married, kids\n",
    "4. Age below 55, not married, kids\n",
    "5. Age above 54, working\n",
    "6. Age above 54, not working"
   ]
  },
  {
   "cell_type": "code",
   "execution_count": null,
   "metadata": {
    "collapsed": true
   },
   "outputs": [],
   "source": [
    "df['lifecl'] = 0 \n",
    "df.loc[(df.age<55)&(df.married!=1)&(df.kids)==0, 'lifecl'] = 1\n",
    "df.loc[(df.age<55)&(df.married==1)&(df.kids)==0, 'lifecl'] = 2\n",
    "df.loc[(df.age<55)&(df.married==1)&(df.kids) >0, 'lifecl'] = 3\n",
    "df.loc[(df.age<55)&(df.married!=1)&(df.kids) >0, 'lifecl'] = 4\n",
    "df.loc[(df.age>54)&(df.lf==1), 'lifecl'] = 5\n",
    "df.loc[(df.age>54)&(df.lf==2), 'lifecl'] = 5"
   ]
  },
  {
   "cell_type": "markdown",
   "metadata": {},
   "source": [
    "**Family structure:**\n",
    "1. Not married, with kids\n",
    "2. Not married, no kids, head under 55\n",
    "3. Not married, no kids, head over 54\n",
    "4. Married, kids\n",
    "5. Married, no kids"
   ]
  },
  {
   "cell_type": "code",
   "execution_count": null,
   "metadata": {
    "collapsed": true
   },
   "outputs": [],
   "source": [
    "df['famstruct'] = 0\n",
    "df.loc[(df.married!=1)&(df.kids>0), 'famstruct'] = 1\n",
    "df.loc[(df.married!=1)&(df.kids==0)&(df.age<55), 'famstruct'] = 2\n",
    "df.loc[(df.married!=1)&(df.kids==0)&(df.age>54), 'famstruct'] = 3\n",
    "df.loc[(df.married==1)&(df.kids>0), 'famstruct'] = 4\n",
    "df.loc[(df.married==1)&(df.kids==0), 'famstruct'] = 5\n",
    "if len(df[df.famstruct==0]) > 0:\n",
    "    print \"There are\",len(df[df.famstruct==0]),\"observations with unclassified family structure\""
   ]
  },
  {
   "cell_type": "markdown",
   "metadata": {},
   "source": [
    "**Race**\n",
    "\n",
    "* Skipped for now"
   ]
  },
  {
   "cell_type": "markdown",
   "metadata": {},
   "source": [
    "**Work status category for head**\n",
    "\n",
    "1. Work for someone else\n",
    "2. Self-employed\n",
    "3. Retired/disabled (includes student, homemaker, age 65 and older)\n",
    "4. Other groups not working (under 65, out of labor force)"
   ]
  },
  {
   "cell_type": "code",
   "execution_count": null,
   "metadata": {
    "collapsed": true
   },
   "outputs": [],
   "source": [
    "df['occat1'] = 0\n",
    "df.loc[df.age<65, 'occat1'] = 4\n",
    "df.loc[df.X4106==1, 'occat1'] = 1\n",
    "df.loc[df.X4106.isin([2,3,4]), 'occat1'] = 2\n",
    "df.loc[np.logical_or(df.X4100.isin([50,52]), (df.X4100.isin([21,23,30,70,80,97,85,-7]))&(df.age>64)), 'occat1'] = 3"
   ]
  },
  {
   "cell_type": "markdown",
   "metadata": {},
   "source": [
    "**Head occupation classification**\n",
    "\n",
    "1. Managerial/professional\n",
    "2. Technical/sales/services\n",
    "3. Other\n",
    "4. Not working"
   ]
  },
  {
   "cell_type": "code",
   "execution_count": null,
   "metadata": {
    "collapsed": true
   },
   "outputs": [],
   "source": [
    "df['occat2'] = 0\n",
    "df.loc[df.X7401==1, 'occat2'] = 1\n",
    "df.loc[df.X7401.isin([2,3]),'occat2'] = 2\n",
    "df.loc[df.X7401.isin([4,5,6]),'occat2'] = 3\n",
    "df.loc[df.X7401==0, 'occat2'] = 4"
   ]
  },
  {
   "cell_type": "markdown",
   "metadata": {},
   "source": [
    "**Industry classification**\n",
    "\n",
    "1. Mining, construction, manufacturing\n",
    "2. Transportation, communications, utilities, sanitary services, wholesale trade, finance, insurance, real estate\n",
    "3. Agriculture, retail trade, services, public administration\n",
    "\n",
    "Note: in the public data set, categories 2 and 3 are combined"
   ]
  },
  {
   "cell_type": "code",
   "execution_count": null,
   "metadata": {
    "collapsed": true
   },
   "outputs": [],
   "source": [
    "df['indcat'] = 2\n",
    "df.loc[df.occat1>2, 'indcat'] = 4\n",
    "df.loc[df.X7402.isin([2,3,]), 'indcat'] = 1"
   ]
  },
  {
   "cell_type": "markdown",
   "metadata": {},
   "source": [
    "** Census region**\n",
    "\n",
    "1. Northeast\n",
    "2. North central\n",
    "3. South\n",
    "4. West"
   ]
  },
  {
   "cell_type": "code",
   "execution_count": null,
   "metadata": {
    "collapsed": false
   },
   "outputs": [],
   "source": [
    "if year == 1989:\n",
    "    df.rename(columns = {'X40083':'region'}, inplace=True)\n",
    "else:\n",
    "    df.rename(columns = {'X30022':'region'}, inplace=True)"
   ]
  },
  {
   "cell_type": "markdown",
   "metadata": {},
   "source": [
    "Income Variables"
   ]
  },
  {
   "cell_type": "code",
   "execution_count": null,
   "metadata": {
    "collapsed": false
   },
   "outputs": [],
   "source": [
    "df['income'] = df.X5729.clip(0,np.inf)\n",
    "df['wageinc'] = df.X5702\n",
    "df['businessfarminc'] = df.X5704 + df.X5714\n",
    "df['intdvinc'] = df.X5706 + df.X5708 + df.X5710\n",
    "df['kginc'] = df.X5712\n",
    "df['ssretinc'] = df.X5722\n",
    "df['transfothinc'] = df.X5716 + df.X5718 + df.X5720 + df.X5724\n",
    "df['rentinc'] = df.X5714\n",
    "\n",
    "if (year < 2010) & (year!=2004):\n",
    "    df['grossinc_taxsim'] = df[['pwages', 'dividends', 'pensions', 'gssi', 'otherprop', 'stcg', 'ltcg']].sum(axis=1)\n",
    "    df['avtax_rate'] = df[['fiitax', 'siitax', 'fica']].sum(axis=1)/df.grossinc_taxsim\n",
    "    df.avtax_rate = df['avtax_rate'].clip(0,1)"
   ]
  },
  {
   "cell_type": "markdown",
   "metadata": {},
   "source": [
    "## Consolidating Asset side <a id=\"asset\"></a>\n",
    "<a href=\"#index\">Back to index</a>  \n",
    "<br>\n",
    "The major asset classes in the SCF are:\n",
    "\n",
    "1. Financial Assets \n",
    "  3. [Checking accounts](#checking)\n",
    "  4. [Saving accounts](#saving)\n",
    "  5. [Money market deposit accounts](#mm_dep)\n",
    "  6. [Money market mutual funds](#mmmf)\n",
    "  7. [Call accounts at brokerages](#call)\n",
    "  8. [Certificates of Deposit](#cds)\n",
    "  9. [Mutual Funds](#nmmf)\n",
    "  10. [Bonds](#bonds)\n",
    "  11. [Stocks](#stocks)\n",
    "  12. [Other Managed Assets](#othma)\n",
    "  10. [Life Insurance](#cashli)\n",
    "  11. [Miscellaneous Financial Assets](#othfin)\n",
    "  2. [Pension Wealth (IRA, Keogh, roll-over etc.)](#retqliq)\n",
    "2. Nonfinancial Assets\n",
    "  1. [Vehicles](#vehic)\n",
    "  1. [Value of primary residence](#houses)\n",
    "  2. [Other Residential Real Estate](#oresre)\n",
    "  3. [Net Equity in Non-Residential Real Estate](#nnresre)\n",
    "  4. [Business Interests](#bus)\n",
    "  5. [Other Non-Financial Assets](#othnfin)\n",
    " "
   ]
  },
  {
   "cell_type": "markdown",
   "metadata": {},
   "source": [
    "**Checking Accounts** <a id=\"checking\"></a>\n",
    "* How much is in account #1 to #6: x3506, x3510, x3514, x3518, x3522, x3526\n",
    "* How much is in all your remaining accounts: x3529\n",
    "* All of these are counted if they are not money-market accounts (`X3***`+1 is equal to 5)"
   ]
  },
  {
   "cell_type": "code",
   "execution_count": null,
   "metadata": {
    "collapsed": false
   },
   "outputs": [],
   "source": [
    "df['checking'] =(df.X3506.clip(0,np.inf)*(df.X3507==5) + df.X3510.clip(0,np.inf)*(df.X3511==5) \n",
    "               + df.X3514.clip(0,np.inf)*(df.X3515==5) + df.X3518.clip(0,np.inf)*(df.X3519==5)\n",
    "               + df.X3522.clip(0,np.inf)*(df.X3522==5) + df.X3526.clip(0,np.inf)*(df.X3527==5)\n",
    "               + df.X3529.clip(0,np.inf)*(df.X3507==5) )"
   ]
  },
  {
   "cell_type": "markdown",
   "metadata": {},
   "source": [
    "**Saving Accounts** <a id=\"saving\"></a>\n",
    "\n",
    "* How much is in account #1 to #6: x3730, x3736, x3742, x3748, x3754, x3760\n",
    "* How much is in all remaining accounts: x3765\n",
    "* Remaining total for respondents outside grid: x8473\n",
    "\n",
    "<sub><a href=\"#asset\">(Back to asset index)</a></sub>"
   ]
  },
  {
   "cell_type": "code",
   "execution_count": null,
   "metadata": {
    "collapsed": false
   },
   "outputs": [],
   "source": [
    "if year <= 2001:\n",
    "    # for 1989 - 2001\n",
    "    df['saving'] =(df.X3804.clip(0,np.inf) + df.X3807.clip(0,np.inf) + df.X3810.clip(0,np.inf) + df.X3813.clip(0,np.inf) \n",
    "                  + df.X3816.clip(0,np.inf) + df.X3818.clip(0,np.inf) ) \n",
    "else:\n",
    "    # for 2004 - 2010 \n",
    "    df['saving'] = (df.X3730.clip(0,np.inf)*(~df.X3732.isin([4,30])) + df.X3736.clip(0,np.inf)*(~df.X3738.isin([4,30]))\n",
    "                  +  df.X3742.clip(0,np.inf)*(~df.X3744.isin([4,30])) + df.X3748.clip(0,np.inf)*(~df.X3750.isin([4,30]))\n",
    "                  +  df.X3754.clip(0,np.inf)*(~df.X3756.isin([4,30])) + df.X3760.clip(0,np.inf)*(~df.X3762.isin([4,30]))\n",
    "                  +  df.X3765.clip(0,np.inf) )"
   ]
  },
  {
   "cell_type": "markdown",
   "metadata": {},
   "source": [
    "**Money Market Deposit Accounts** <a id=\"mm_dep\"></a>\n",
    "* How much is in account #1 to #6 (if the corresponding question about whether this is a money-market account is answered with yes and the institution this account is held at is a bank (11), savings & loan association (12) or credit union (13))\n",
    "* How much is in money market accounts #1 to #3 (X3706, X3711, X3716) and all remaining money-market accounts (X3718) if they are held at institutions 11, 12 or 13\n",
    "* For years from 2004, add X3730,...,X3765 if they are classified in category 4 (money market) or 30 (sweep account n.e.c.)\n",
    "\n",
    "<sub><a href=\"#asset\">(Back to asset index)</a></sub>"
   ]
  },
  {
   "cell_type": "code",
   "execution_count": null,
   "metadata": {
    "collapsed": false
   },
   "outputs": [],
   "source": [
    "if year <= 2001:\n",
    "    df['mm_dep'] = (df.X3506.clip(0,np.inf)*((df.X3507==1).astype(int)*(df.X9113.isin([11,12,13])))\n",
    "                 + df.X3510.clip(0,np.inf)*((df.X3511==1).astype(int)*(df.X9114.isin([11,12,13])))\n",
    "                 + df.X3514.clip(0,np.inf)*((df.X3515==1).astype(int)*(df.X9115.isin([11,12,13])))\n",
    "                 + df.X3518.clip(0,np.inf)*((df.X3519==1).astype(int)*(df.X9116.isin([11,12,13])))\n",
    "                 + df.X3522.clip(0,np.inf)*((df.X3523==1).astype(int)*(df.X9117.isin([11,12,13])))\n",
    "                 + df.X3526.clip(0,np.inf)*((df.X3527==1).astype(int)*(df.X9118.isin([11,12,13])))\n",
    "                 + df.X3529.clip(0,np.inf)*((df.X3527==1).astype(int)*(df.X9118.isin([11,12,13])))\n",
    "                 + df.X3706.clip(0,np.inf)*(df.X9131.isin([11,12,13])) + df.X3711.clip(0,np.inf)*(df.X9132.isin([11,12,13]))\n",
    "                 + df.X3716.clip(0,np.inf)*(df.X9133.isin([11,12,13])) + df.X3718.clip(0,np.inf)*(df.X9133.isin([11,12,13]))) \n",
    "else:\n",
    "    df['mm_dep'] = (df.X3506.clip(0,np.inf)*((df.X3507==1).astype(int)*(df.X9113.isin([11,12,13])))\n",
    "                 + df.X3510.clip(0,np.inf)*((df.X3511==1).astype(int)*(df.X9114.isin([11,12,13])))\n",
    "                 + df.X3514.clip(0,np.inf)*((df.X3515==1).astype(int)*(df.X9115.isin([11,12,13])))\n",
    "                 + df.X3518.clip(0,np.inf)*((df.X3519==1).astype(int)*(df.X9116.isin([11,12,13])))\n",
    "                 + df.X3522.clip(0,np.inf)*((df.X3523==1).astype(int)*(df.X9117.isin([11,12,13])))\n",
    "                 + df.X3526.clip(0,np.inf)*((df.X3527==1).astype(int)*(df.X9118.isin([11,12,13])))\n",
    "                 + df.X3529.clip(0,np.inf)*((df.X3527==1).astype(int)*(df.X9118.isin([11,12,13])))\n",
    "                 + df.X3730.clip(0,np.inf)*(df.X3732.isin([4,30]).astype(int))*(df.X9259.isin([11,12,13])).astype(int)\n",
    "                 + df.X3736.clip(0,np.inf)*(df.X3738.isin([4,30]).astype(int))*(df.X9260.isin([11,12,13])).astype(int)\n",
    "                 + df.X3742.clip(0,np.inf)*(df.X3744.isin([4,30]).astype(int))*(df.X9261.isin([11,12,13])).astype(int)\n",
    "                 + df.X3748.clip(0,np.inf)*(df.X3750.isin([4,30]).astype(int))*(df.X9262.isin([11,12,13])).astype(int)\n",
    "                 + df.X3754.clip(0,np.inf)*(df.X3756.isin([4,30]).astype(int))*(df.X9263.isin([11,12,13])).astype(int)\n",
    "                 + df.X3760.clip(0,np.inf)*(df.X3762.isin([4,30]).astype(int))*(df.X9264.isin([11,12,13])).astype(int)\n",
    "                 + df.X3765.clip(0,np.inf)*(df.X3762.isin([4,30]).astype(int))*(df.X9264.isin([11,12,13])).astype(int))"
   ]
  },
  {
   "cell_type": "markdown",
   "metadata": {},
   "source": [
    "**Money Market Mutual Funds**<a id=\"mmmf\"></a>\n",
    "\n",
    "* Similar to above, these are money market accounts which are not being held at an institution of type 11, 12, or 13. \n",
    "\n",
    "<sub><a href=\"#asset\">(Back to asset index)</a></sub>"
   ]
  },
  {
   "cell_type": "code",
   "execution_count": null,
   "metadata": {
    "collapsed": false
   },
   "outputs": [],
   "source": [
    "if year <= 2001:\n",
    "    df['mmmf'] = (df.X3506.clip(0,np.inf)*((df.X3507==1) & (~df.X9113.isin([11,12,13]))).astype(int)\n",
    "                + df.X3510.clip(0,np.inf)*((df.X3511==1) & (~df.X9114.isin([11,12,13]))).astype(int)\n",
    "                + df.X3514.clip(0,np.inf)*((df.X3515==1) & (~df.X9115.isin([11,12,13]))).astype(int)\n",
    "                + df.X3518.clip(0,np.inf)*((df.X3519==1) & (~df.X9116.isin([11,12,13]))).astype(int)\n",
    "                + df.X3522.clip(0,np.inf)*((df.X3523==1) & (~df.X9117.isin([11,12,13]))).astype(int)\n",
    "                + df.X3526.clip(0,np.inf)*((df.X3527==1) & (~df.X9118.isin([11,12,13]))).astype(int)\n",
    "                + df.X3529.clip(0,np.inf)*((df.X3527==1) & (~df.X9118.isin([11,12,13]))).astype(int)\n",
    "                + df.X3706.clip(0,np.inf)*(~df.X9131.isin([11,12,13])).astype(int)\n",
    "                + df.X3711.clip(0,np.inf)*(~df.X9132.isin([11,12,13])).astype(int)\n",
    "                + df.X3716.clip(0,np.inf)*(~df.X9133.isin([11,12,13])).astype(int)\n",
    "                + df.X3718.clip(0,np.inf)*(~df.X9133.isin([11,12,13])).astype(int) )\n",
    "else:\n",
    "    df['mmmf'] = (df.X3506.clip(0,np.inf)*((df.X3507==1) & (~df.X9113.isin([11,12,13]))).astype(int)\n",
    "                + df.X3510.clip(0,np.inf)*((df.X3511==1) & (~df.X9114.isin([11,12,13]))).astype(int)\n",
    "                + df.X3514.clip(0,np.inf)*((df.X3515==1) & (~df.X9115.isin([11,12,13]))).astype(int)\n",
    "                + df.X3518.clip(0,np.inf)*((df.X3519==1) & (~df.X9116.isin([11,12,13]))).astype(int)\n",
    "                + df.X3522.clip(0,np.inf)*((df.X3523==1) & (~df.X9117.isin([11,12,13]))).astype(int)\n",
    "                + df.X3526.clip(0,np.inf)*((df.X3527==1) & (~df.X9118.isin([11,12,13]))).astype(int)\n",
    "                + df.X3529.clip(0,np.inf)*((df.X3527==1) & (~df.X9118.isin([11,12,13]))).astype(int)\n",
    "                + df.X3730.clip(0,np.inf)*((df.X3732.isin([4,30])) & (~df.X9259.isin([11,12,13]))).astype(int)\n",
    "                + df.X3736.clip(0,np.inf)*((df.X3738.isin([4,30])) & (~df.X9260.isin([11,12,13]))).astype(int)\n",
    "                + df.X3742.clip(0,np.inf)*((df.X3744.isin([4,30])) & (~df.X9261.isin([11,12,13]))).astype(int)\n",
    "                + df.X3748.clip(0,np.inf)*((df.X3750.isin([4,30])) & (~df.X9262.isin([11,12,13]))).astype(int)\n",
    "                + df.X3754.clip(0,np.inf)*((df.X3756.isin([4,30])) & (~df.X9263.isin([11,12,13]))).astype(int)\n",
    "                + df.X3760.clip(0,np.inf)*((df.X3762.isin([4,30])) & (~df.X9264.isin([11,12,13]))).astype(int)\n",
    "                + df.X3765.clip(0,np.inf)*((df.X3762.isin([4,30])) & (~df.X9264.isin([11,12,13]))).astype(int) )       "
   ]
  },
  {
   "cell_type": "markdown",
   "metadata": {},
   "source": [
    "**All Money Market Accounts**"
   ]
  },
  {
   "cell_type": "code",
   "execution_count": null,
   "metadata": {
    "collapsed": true
   },
   "outputs": [],
   "source": [
    "df['mma'] = df.mm_dep + df.mmmf"
   ]
  },
  {
   "cell_type": "markdown",
   "metadata": {},
   "source": [
    "**Call Accounts at Brokerages**<a id=\"call\"></a>\n",
    "\n",
    "<sub><a href=\"#asset\">(Back to asset index)</a></sub>"
   ]
  },
  {
   "cell_type": "code",
   "execution_count": null,
   "metadata": {
    "collapsed": true
   },
   "outputs": [],
   "source": [
    "df['call'] = df.X3930.clip(0,np.inf)"
   ]
  },
  {
   "cell_type": "markdown",
   "metadata": {},
   "source": [
    "**Liquid Assets**"
   ]
  },
  {
   "cell_type": "code",
   "execution_count": null,
   "metadata": {
    "collapsed": false
   },
   "outputs": [],
   "source": [
    "df['liquid'] = df[['checking', 'saving', 'mma', 'call']].sum(axis=1)"
   ]
  },
  {
   "cell_type": "markdown",
   "metadata": {},
   "source": [
    "**Certificates of Deposit**<a id=\"cds\"></a>\n",
    "\n",
    "* What is the total dollar value of all CDs: x3721\n",
    "\n",
    "<sub><a href=\"#asset\">(Back to asset index)</a></sub>"
   ]
  },
  {
   "cell_type": "code",
   "execution_count": null,
   "metadata": {
    "collapsed": true
   },
   "outputs": [],
   "source": [
    "df['cds'] = df.X3721.clip(0,np.inf)"
   ]
  },
  {
   "cell_type": "markdown",
   "metadata": {},
   "source": [
    "** Mutual Funds** <a id=\"nmmf\"></a>\n",
    "* Total value of stock mutual funds: x3822\n",
    "* Market value of tax-free bond mutual funds: x3824\n",
    "* Market value of government bond mutual funds: x3826\n",
    "* Market value of other bond mutual funds: x3828\n",
    "* Market value of combination funds: x3830\n",
    "* Market value of all other funds: x7787\n",
    "\n",
    "<sub><a href=\"#asset\">(Back to asset index)</a></sub>"
   ]
  },
  {
   "cell_type": "code",
   "execution_count": null,
   "metadata": {
    "collapsed": false
   },
   "outputs": [],
   "source": [
    "df['stmutf'] = df.X3822.clip(0,np.inf)*(df.X3821==1)   \n",
    "df['tfbmutf'] = df.X3824.clip(0,np.inf)*(df.X3823==1)   \n",
    "df['gbmutf'] = df.X3826.clip(0,np.inf)*(df.X3825==1)\n",
    "df['obmutf'] = df.X3828.clip(0,np.inf)*(df.X3827==1)\n",
    "df['comutf'] = df.X3830.clip(0,np.inf)*(df.X3829==1)\n",
    "\n",
    "if year > 2004:\n",
    "    df['omutf'] = df.X7787.clip(0,np.inf)*(df.X7785==1)\n",
    "else:\n",
    "    df['omutf'] = 0\n",
    "    \n",
    "df['nmmf'] = df[['stmutf', 'tfbmutf', 'gbmutf', 'obmutf', 'comutf', 'omutf']].sum(axis=1)"
   ]
  },
  {
   "cell_type": "markdown",
   "metadata": {},
   "source": [
    "**Bonds (other than savings bonds)**<a id=\"bonds\"></a>\n",
    "\n",
    "* Mortgage backed bonds: face value x3906 (market value x7635)\n",
    "* US govnmt bonds or T-bills: face value x3908 (market value x7636)\n",
    "* State/municipal/tax-free bonds: face value x3910 (market value x7637)\n",
    "* Foreign bonds: face value x7633 (market value x7638)\n",
    "* Corporate bonds: face value x7634 (market value x7639)\n",
    "\n",
    "<sub><a href=\"#asset\">(Back to asset index)</a></sub>"
   ]
  },
  {
   "cell_type": "code",
   "execution_count": null,
   "metadata": {
    "collapsed": false
   },
   "outputs": [],
   "source": [
    "df['mortbnd'] = df.X3906\n",
    "df['govtbnd'] = df.X3908\n",
    "df['notxbnd'] = df.X3910\n",
    "\n",
    "if year >= 1992:\n",
    "    df['obnd'] = df.X7634 + df.X7633\n",
    "else:\n",
    "    df['obnd'] = df.X3912\n",
    "\n",
    "df['bonds'] = df[['notxbnd', 'mortbnd', 'govtbnd', 'obnd']].sum(axis=1)"
   ]
  },
  {
   "cell_type": "markdown",
   "metadata": {},
   "source": [
    "**Savings bonds**\n",
    "\n",
    "* Face value of all government savings bonds (X3902)"
   ]
  },
  {
   "cell_type": "code",
   "execution_count": null,
   "metadata": {
    "collapsed": true
   },
   "outputs": [],
   "source": [
    "df['savbnd'] = df.X3902"
   ]
  },
  {
   "cell_type": "markdown",
   "metadata": {},
   "source": [
    "**Stocks**<a id=\"stocks\"></a>\n",
    "\n",
    "* Total market value of stock: x3915\n",
    "\n",
    "<sub><a href=\"#asset\">(Back to asset index)</a></sub>"
   ]
  },
  {
   "cell_type": "code",
   "execution_count": null,
   "metadata": {
    "collapsed": false
   },
   "outputs": [],
   "source": [
    "df['stocks'] = df.X3915.clip(0,np.inf)"
   ]
  },
  {
   "cell_type": "markdown",
   "metadata": {},
   "source": [
    "**Other managed assets (Annuities, trusts, managed investments with equity interest)**<a id=\"othma\"></a>\n",
    "\n",
    "* How much would you receive if you cashed in the annuities: x6577\n",
    "* Cash value of equity interest in trust/managed investment: x6587\n",
    "\n",
    "<sub><a href=\"#asset\">(Back to asset index)</a></sub>"
   ]
  },
  {
   "cell_type": "code",
   "execution_count": null,
   "metadata": {
    "collapsed": false
   },
   "outputs": [],
   "source": [
    "if year >= 2004:\n",
    "    df['annuit'] = df.X6577.clip(0,np.inf)\n",
    "    df['trusts'] = df.X6587.clip(0,np.inf)\n",
    "    df['othma'] = df.annuit + df.trusts\n",
    "elif year in [1998,2001]:\n",
    "    df['annuit'] = df.X6820.clip(0,np.inf)\n",
    "    df['trusts'] = df.X6835.clip(0,np.inf)\n",
    "    df['othma'] = df.annuit + df.trusts\n",
    "else:\n",
    "    df['othma'] = df.X3942.clip(0,np.inf)\n",
    "    denom = ((df.X3934==1).astype(int) + (df.X3935==1).astype(int) \n",
    "           + (df.X3936==1).astype(int) + (df.X3937==1).astype(int)).clip(1,np.inf)\n",
    "    df['annuit'] = ( (df.X3935==1).astype(int)/ denom )*df.X3942.clip(0,np.inf)\n",
    "    df['trusts'] = df['othma'] - df['annuit']"
   ]
  },
  {
   "cell_type": "markdown",
   "metadata": {},
   "source": [
    "**Life Insurance**<a id=\"cashli\"></a>\n",
    "\n",
    "* Current Cash Value of Life Insurance: x4006\n",
    "\n",
    "<sub><a href=\"#asset\">(Back to asset index)</a></sub>"
   ]
  },
  {
   "cell_type": "code",
   "execution_count": null,
   "metadata": {
    "collapsed": false
   },
   "outputs": [],
   "source": [
    "df['cashli'] = df.X4006.clip(0,np.inf)"
   ]
  },
  {
   "cell_type": "markdown",
   "metadata": {},
   "source": [
    "**Other financial assets**<a id=\"othfin\"></a>\n",
    "\n",
    "* How much are you owed by friends, businesses, relatives, others: x4018\n",
    "* Other assets not yet recorded #1 to #3 (X4022, X4026, X4030) if they are financial assets\n",
    "\n",
    "<sub><a href=\"#asset\">(Back to asset index)</a></sub>"
   ]
  },
  {
   "cell_type": "code",
   "execution_count": null,
   "metadata": {
    "collapsed": false
   },
   "outputs": [],
   "source": [
    "df['othfin'] = (df.X4018\n",
    "               + df.X4022*(df.X4020.isin([61,62,63,64,65,66,67,72,73,74,77,79,80,81,82,83,84]))\n",
    "               + df.X4026*(df.X4024.isin([61,62,63,64,65,66,67,72,73,74,77,79,80,81,82,83,84]))\n",
    "               + df.X4030*(df.X4028.isin([61,62,63,64,65,66,67,72,73,74,77,79,80,81,82,83,84])) )"
   ]
  },
  {
   "cell_type": "markdown",
   "metadata": {},
   "source": [
    "**Quasi-liquid retirement accounts (IRA, thrift type, Keogh)**<a id=\"retqliq\"></a>\n",
    "\n",
    "<sub><a href=\"#asset\">(Back to asset index)</a></sub>"
   ]
  },
  {
   "cell_type": "code",
   "execution_count": null,
   "metadata": {
    "collapsed": true
   },
   "outputs": [],
   "source": [
    "if year >= 2004:\n",
    "    df['irakh'] = df[['X6551','X6559','X6567','X6552','X6560','X6568','X6553','X6561', \n",
    "                      'X6569','X6554','X6562','X6570']].sum(axis=1)\n",
    "else:\n",
    "    df['irakh'] = df.X3610.clip(0,np.inf) + df.X3620.clip(0,np.inf) + df.X3630.clip(0,np.inf)"
   ]
  },
  {
   "cell_type": "code",
   "execution_count": null,
   "metadata": {
    "collapsed": false
   },
   "outputs": [],
   "source": [
    "if year < 2004:\n",
    "    ptype = ['X4216', 'X4316', 'X4416', 'X4816', 'X4916', 'X5016']\n",
    "    pamt  = ['X4226', 'X4326', 'X4426', 'X4826', 'X4926', 'X5026']\n",
    "    pbor  = ['X4227', 'X4327', 'X4427', 'X4827', 'X4927', 'X5027']\n",
    "    pwit  = ['X4231', 'X4331', 'X4431', 'X4831', 'X4931', 'X5031']\n",
    "    pall  = ['X4234', 'X4334', 'X4434', 'X4834', 'X4934', 'X5034']\n",
    "    df['thrift'] = 0; df['peneq'] = 0; df['rthrift'] = 0; df['sthrift'] = 0; df['req'] = 0; df['seq'] = 0\n",
    "    for i in range(0,len(ptype)):\n",
    "        df['hold'] = df[pamt[i]].clip(0,np.inf)*((df[ptype[i]].isin([1,2,7,11,12,18])) \n",
    "                                               | (df[pbor[i]]==1) | (df[pwit[i]]==1)).astype(int)\n",
    "    \n",
    "        if i < 3:\n",
    "            df.rthrift += df.hold\n",
    "        else:\n",
    "            df.sthrift += df.hold\n",
    "    \n",
    "        df.thrift += df.hold\n",
    "        df.peneq += df.hold*((df[pall[i]]==1).astype(int) + 0.5*(df[pall[i]]==3).astype(int))\n",
    "    \n",
    "        if i < 3: \n",
    "            df.req = df.peneq\n",
    "        else:\n",
    "            df.seq = df.peneq - df.req\n",
    "    \n",
    "    varlist = [1,2,7,11,12,18]\n",
    "    df['pmop'] = np.nan\n",
    "    df.loc[(df.X4436>0) & (df.X4216.isin(varlist) | (df.X4316.isin(varlist)) | df.X4416.isin(varlist) | (df.X4231==1) \n",
    "            | (df.X4331==1) | (df.X4431==1) | (df.X4227==1) | (df.X4327==1) | (df.X4427==1)), 'pmop'] = df.X4436\n",
    "    df.loc[(df.X4436>0) & (df.X4216!=0)&(df.X4316!=0)&(df.X4416!=0)&(df.X4231!=0)&(df.X4331!=0)&(df.X4431!=0),'pmop'] = 0\n",
    "    df.loc[(df.X4436>0) & (np.isnan(df.pmop)), 'pmop'] = df.X4436\n",
    "    \n",
    "    df.thrift += df.pmop\n",
    "    \n",
    "    df.loc[df.req>0, 'peneq'] += df.pmop*(df.req/df.rthrift)\n",
    "    df.loc[df.req<=0, 'peneq'] += df.pmop/2\n",
    "    \n",
    "    df['pmop'] = np.nan\n",
    "    df.loc[(df.X5036>0) & (df.X4816.isin(varlist) | (df.X4916.isin(varlist)) | df.X5016.isin(varlist) | (df.X4831==1) \n",
    "            | (df.X4931==1) | (df.X5031==1) | (df.X4827==1) | (df.X4927==1) | (df.X5027==1)), 'pmop'] = df.X5036\n",
    "    df.loc[(df.X5036>0) & (df.X4816!=0)&(df.X4916!=0)&(df.X5016!=0)&(df.X4831!=0)&(df.X4931!=0)&(df.X5031!=0),'pmop'] = 0\n",
    "    df.loc[(df.X5036>0) & (np.isnan(df.pmop)), 'pmop'] = df.X5036\n",
    "    \n",
    "    df.thrift += df.pmop\n",
    "    \n",
    "    df.loc[df.seq>0, 'peneq'] += df.pmop*(df.seq/df.sthrift)\n",
    "    df.loc[df.seq<=0, 'peneq'] += df.pmop/2\n",
    "    \n",
    "elif (year >= 2004) & (year<2010):\n",
    "    ptype1 = ['X11000', 'X11100', 'X11200', 'X11300', 'X11400', 'X11500']\n",
    "    ptype2 = ['X11001', 'X11101', 'X11201', 'X11301', 'X11401', 'X11501']\n",
    "    pamt = ['X11032', 'X11132', 'X11232', 'X11332', 'X11432', 'X11532']\n",
    "    pbor = ['X11025', 'X11125', 'X11225', 'X11325', 'X11425', 'X11525']\n",
    "    pwit = ['X11031', 'X11131', 'X11231', 'X11331', 'X11431', 'X11531']\n",
    "    pall = ['X11036', 'X11136', 'X11236', 'X11336', 'X11436', 'X11536']\n",
    "    ppct = ['X11037', 'X11137', 'X11237', 'X11337', 'X11437', 'X11537']\n",
    "    df['thrift'] = 0; df['peneq'] = 0; df['rthrift'] = 0; df['sthrift'] = 0; df['req'] = 0; df['seq'] = 0\n",
    "    \n",
    "    for i in range(0,len(ptype1)):\n",
    "        df['hold'] = (df[pamt[i]].clip(0,np.inf)*( (df[ptype1[i]].isin([5,6,10,21]))\n",
    "                                                 | (df[ptype2[i]].isin([2,3,4,6,20,21,22,26])) \n",
    "                                                 | (df[pbor[i]]==1) \n",
    "                                                 | (df[pwit[i]]==1)).astype(int) )\n",
    "    \n",
    "        if i < 3:\n",
    "            df.rthrift += df.hold\n",
    "        else:\n",
    "            df.sthrift += df.hold\n",
    "    \n",
    "        df.thrift += df.hold\n",
    "        df.peneq += df.hold*((df[pall[i]]==1).astype(int) + (df[ppct[i]].clip(0,np.inf))*(df[pall[i]]==3).astype(int)/10000)\n",
    "    \n",
    "        if i < 3: \n",
    "            df.req = df.peneq\n",
    "        else:\n",
    "            df.seq = df.peneq - df.req\n",
    "            \n",
    "    df['hold'] = np.nan; df['pmop'] = np.nan\n",
    "    varlist1 = [5,6,10,21]\n",
    "    varlist2 = [2,3,4,6,20,21,22,26]\n",
    "    df.loc[(df.X11259>0) & (df.X11000.isin(varlist1) | (df.X11100.isin(varlist1)) | df.X11200.isin(varlist1) \n",
    "                         | (df.X11001.isin(varlist2) | (df.X11101.isin(varlist2)) | df.X11200.isin(varlist2)\n",
    "                         | (df.X11031==1) | (df.X11131==1) | (df.X11231==1) \n",
    "                         | (df.X11025==1) | (df.X11125==1))| (df.X11225==1)), 'pmop'] = df.X11259\n",
    "    df.loc[(df.X11259>0) & (df.X11000!=0)&(df.X11100!=0)&(df.X11200!=0)&(df.X11025!=0)&(df.X11125!=0)&(df.X11225!=0),'pmop'] = 0\n",
    "    df.loc[(df.X11259>0) & (np.isnan(df.pmop)), 'pmop'] = df.X11259\n",
    "    \n",
    "    df.thrift += df.pmop\n",
    "    \n",
    "    df.loc[df.req>0, 'peneq'] += df.pmop*(df.req/df.rthrift)\n",
    "    df.loc[df.req<=0, 'peneq'] += df.pmop/2\n",
    "    \n",
    "    df.loc[(df.X11559>0) & (df.X11300.isin(varlist1) | (df.X11400.isin(varlist1)) | df.X11500.isin(varlist1) \n",
    "                         | (df.X11301.isin(varlist2) | (df.X11401.isin(varlist2)) | df.X11500.isin(varlist2)\n",
    "                         | (df.X11331==1) | (df.X11431==1) | (df.X11531==1) \n",
    "                         | (df.X11325==1) | (df.X11425==1))| (df.X11525==1)), 'pmop'] = df.X11559\n",
    "    df.loc[(df.X11559>0) & (df.X11300!=0)&(df.X11400!=0)&(df.X11500!=0)&(df.X11325!=0)&(df.X11425!=0)&(df.X11525!=0),'pmop'] = 0\n",
    "    df.loc[(df.X11559>0) & (np.isnan(df.pmop)), 'pmop'] = df.X11559\n",
    "    \n",
    "    df.loc[df.seq>0, 'peneq'] += df.pmop*(df.seq/df.sthrift)\n",
    "    df.loc[df.seq<=0, 'peneq'] += df.pmop/2\n",
    "\n",
    "else:\n",
    "    ptype1 = ['X11000', 'X11100', 'X11300', 'X11400']\n",
    "    ptype2 = ['X11001', 'X11101', 'X11301', 'X11401']\n",
    "    pamt =   ['X11032', 'X11132', 'X11332', 'X11432']\n",
    "    pbor =   ['X11025', 'X11125', 'X11325', 'X11425']\n",
    "    pwit =   ['X11031', 'X11131', 'X11331', 'X11431']\n",
    "    pall =   ['X11036', 'X11136', 'X11336', 'X11436']\n",
    "    ppct =   ['X11037', 'X11137', 'X11337', 'X11437']\n",
    "    df['thrift'] = 0; df['peneq'] = 0; df['rthrift'] = 0; df['sthrift'] = 0; df['req'] = 0; df['seq'] = 0\n",
    "    varlist = [2,3,4,6,20,21,22,26]\n",
    "    \n",
    "    for i in range(0,len(ptype1)):\n",
    "        df['hold'] = df[pamt[i]].clip(0,np.inf)*((df[ptype1[i]]==1) | (df[ptype2[i]].isin(varlist)) \n",
    "                                                 | (df[pbor[i]]==1) | (df[pwit[i]]==1) )\n",
    "        if i < 2:\n",
    "            df.rthrift += df.hold\n",
    "        else:\n",
    "            df.sthrift += df.hold\n",
    "        \n",
    "        df.thrift += df.hold\n",
    "        df['peneq'] += df.hold*((df[pall[i]]==1).astype(int) + (df[ppct[i]].clip(0,np.inf))*(df[pall[i]].isin([3,30])).astype(int)/10000)\n",
    "        \n",
    "        if i < 2:\n",
    "            df.req = df.peneq\n",
    "        else:\n",
    "            df.seq = df.peneq - df.req\n",
    "    \n",
    "    df['hold'] = np.nan; df['pmop'] = np.nan\n",
    "    varlist = [2,3,4,6,20,21,22,26]\n",
    "    df.loc[(df.X11259>0) & ((df.X11000==1) | (df.X11100==1) | (df.X11001.isin(varlist) | (df.X11101.isin(varlist)) \n",
    "                           |(df.X11031==1) | (df.X11131==1) | (df.X11025==1) | (df.X11125==1))), 'pmop'] = df.X11259\n",
    "    df.loc[(df.X11259>0) & (df.X11000!=0) & (df.X11100!=0) & (df.X11025!=0) & (df.X11125!=0),'pmop'] = 0\n",
    "    df.loc[(df.X11259>0) & (np.isnan(df.pmop)), 'pmop'] = df.X11259\n",
    "    \n",
    "    df.thrift += df.pmop\n",
    "    \n",
    "    df.loc[df.req>0, 'peneq'] += df.pmop*(df.req/df.rthrift)\n",
    "    df.loc[df.req<=0, 'peneq'] += df.pmop/2\n",
    "    \n",
    "    df.loc[(df.X11559>0) & ((df.X11300==1) | (df.X11400==1) | (df.X11301.isin(varlist)) | (df.X11401.isin(varlist)) \n",
    "                         | (df.X11331==1) | (df.X11431==1) | (df.X11325==1) | (df.X11425==1)), 'pmop'] = df.X11559\n",
    "    df.loc[(df.X11559>0) & (df.X11300!=0) & (df.X11400!=0) & (df.X11325!=0) & (df.X11425!=0),'pmop'] = 0\n",
    "    df.loc[(df.X11559>0) & (np.isnan(df.pmop)), 'pmop'] = df.X11559\n",
    "    \n",
    "    df.loc[df.seq>0, 'peneq'] += df.pmop*(df.seq/df.sthrift)\n",
    "    df.loc[df.seq<=0, 'peneq'] += df.pmop/2"
   ]
  },
  {
   "cell_type": "code",
   "execution_count": null,
   "metadata": {
    "collapsed": true
   },
   "outputs": [],
   "source": [
    "if year >= 2010:\n",
    "    df['futpen'] = df.X5604.clip(0,np.inf) + df.X5612.clip(0,np.inf) + df.X5620.clip(0,np.inf) + df.X5628.clip(0,np.inf)\n",
    "else:\n",
    "    df['futpen'] = (df.X5604.clip(0,np.inf) + df.X5612.clip(0,np.inf) + df.X5620.clip(0,np.inf) + df.X5628.clip(0,np.inf)\n",
    "                 +  df.X5636.clip(0,np.inf)+df.X5644.clip(0,np.inf) )"
   ]
  },
  {
   "cell_type": "code",
   "execution_count": null,
   "metadata": {
    "collapsed": true
   },
   "outputs": [],
   "source": [
    "if (year >= 2004) & (year <= 2007):\n",
    "    df['currpen'] = df.X6462 + df.X6467 + df.X6472 + df.X6477 + df.X6482 + df.X6487 + df.X6957\n",
    "    df['retqliq'] = df.irakh + df.thrift + df.futpen + df.currpen\n",
    "elif year >= 2010:\n",
    "    df['currpen'] = df.X6462 + df.X6467 + df.X6472 + df.X6477 + df.X6957\n",
    "    df['retqliq'] = df.irakh + df.thrift + df.futpen + df.currpen\n",
    "elif year == 2001:\n",
    "    df['currpen'] = df.X6462 + df.X6467 + df.X6472 + df.X6477 + df.X6482 + df.X6487\n",
    "    df['retqliq'] = df.irakh + df.thrift + df.futpen + df.currpen\n",
    "else:\n",
    "    df['currpen'] =  0\n",
    "    df['retqliq'] = df.irakh + df.thrift + df.futpen"
   ]
  },
  {
   "cell_type": "markdown",
   "metadata": {},
   "source": [
    "**Total Financial Assets**"
   ]
  },
  {
   "cell_type": "code",
   "execution_count": null,
   "metadata": {
    "collapsed": false
   },
   "outputs": [],
   "source": [
    "df['fin'] = df[['liquid', 'cds', 'nmmf', 'stocks', 'bonds', 'savbnd', 'cashli', 'othma', 'othfin']].sum(axis=1)"
   ]
  },
  {
   "cell_type": "markdown",
   "metadata": {},
   "source": [
    "## Nonfinancial Assets"
   ]
  },
  {
   "cell_type": "markdown",
   "metadata": {},
   "source": [
    "**Vehicles**<a id=\"vehic\"></a>\n",
    "\n",
    "<sub><a href=\"#asset\">(Back to asset index)</a></sub>"
   ]
  },
  {
   "cell_type": "code",
   "execution_count": null,
   "metadata": {
    "collapsed": true
   },
   "outputs": [],
   "source": [
    "if year >= 1995:\n",
    "    df['vehic'] = (df.X8166.clip(0,np.inf) + df.X8167.clip(0,np.inf)+df.X8168.clip(0,np.inf) + df.X8188.clip(0,np.inf) \n",
    "                 + df.X2422.clip(0,np.inf) + df.X2506.clip(0,np.inf)+df.X2606.clip(0,np.inf) + df.X2623.clip(0,np.inf) )\n",
    "else:\n",
    "    df['vehic'] = (df.X8166.clip(0,np.inf) + df.X8167.clip(0,np.inf) + df.X8168.clip(0,np.inf)\n",
    "                 + df.X2422.clip(0,np.inf) + df.X2506.clip(0,np.inf)+df.X2606.clip(0,np.inf) + df.X2623.clip(0,np.inf) )"
   ]
  },
  {
   "cell_type": "markdown",
   "metadata": {},
   "source": [
    "### Primary Residence <a id=\"houses\"></a>\n",
    "\n",
    "<sub><a href=\"#asset\">(Back to asset index)</a></sub>"
   ]
  },
  {
   "cell_type": "markdown",
   "metadata": {},
   "source": [
    "**Farmers: compute value of business part of farm net of outstanding mortgages**"
   ]
  },
  {
   "cell_type": "code",
   "execution_count": null,
   "metadata": {
    "collapsed": false
   },
   "outputs": [],
   "source": [
    "# cap percent of famr used for farming at 90%:\n",
    "df.x507 = df.X507.clip(0,9000)\n",
    "df['farmbus'] = 0\n",
    "\n",
    "df.farmbus = (df.X507/10000)*(df.X513 + df.X526 - df.X805 - df.X905 - df.X1005)\n",
    "df.X805 = df.X805*((10000 - df.X507)/10000)\n",
    "df.X808 = df.X808*((10000 - df.X507)/10000)\n",
    "df.X813 = df.X813*((10000 - df.X507)/10000)\n",
    "df.X905 = df.X905*((10000 - df.X507)/10000)\n",
    "df.X908 = df.X908*((10000 - df.X507)/10000)\n",
    "df.X913 = df.X913*((10000 - df.X507)/10000)\n",
    "df.X1005 = df.X1005*((10000 - df.X507)/10000)\n",
    "df.X1008 = df.X1008*((10000 - df.X507)/10000)\n",
    "df.X1013 = df.X1013*((10000 - df.X507)/10000)\n",
    "\n",
    "df.loc[df.X1103==1, 'farmbus'] = df.farmbus - df.X1108*(df.X507/10000)\n",
    "df.loc[df.X1103==1, 'X1108'] = df.X1108*(10000-df.X507)/10000\n",
    "df.loc[df.X1103==1, 'X1109'] = df.X1109*(10000-df.X507)/10000\n",
    "\n",
    "df.loc[df.X1114==1, 'farmbus'] = df.farmbus - df.X1119*(df.X507/10000)\n",
    "df.loc[df.X1114==1, 'X1119'] = df.X1119*(10000-df.X507)/10000\n",
    "df.loc[df.X1114==1, 'X1120'] = df.X1120*(10000-df.X507)/10000\n",
    "\n",
    "df.loc[df.X1125==1, 'farmbus'] = df.farmbus - df.X1130*(df.X507/10000)\n",
    "df.loc[df.X1125==1, 'X1130'] = df.X1130*(10000-df.X507)/10000\n",
    "df.loc[df.X1125==1, 'X1131'] = df.X1131*(10000-df.X507)/10000\n",
    "\n",
    "cond = (df.X1136>0) & (df.X1108 + df.X1119 + df.X1130 > 0)\n",
    "\n",
    "df.loc[cond,'farmbus'] = (df.farmbus - df.X1136*(df.X507/10000)*(df.X1108*(df.X1103==1).astype(int)\n",
    "                       + df.X1119*(df.X1114==1).astype(int)\n",
    "                       + df.X1130*(df.X1125==1).astype(int)) /(df.X1108 + df.X1119 + df.X1130))\n",
    "    \n",
    "df.loc[cond,'X1136'] = (df.X1136*((10000-df.X507)/10000)*(df.X1108*(df.X1103==1).astype(int)\n",
    "                     + df.X1119*(df.X1114==1).astype(int) \n",
    "                     + df.X1130*(df.X1125==1).astype(int)) /(df.X1108 + df.X1119 + df.X1130))"
   ]
  },
  {
   "cell_type": "markdown",
   "metadata": {},
   "source": [
    "**Value of Primary Residence**"
   ]
  },
  {
   "cell_type": "code",
   "execution_count": null,
   "metadata": {
    "collapsed": true
   },
   "outputs": [],
   "source": [
    "df['houses'] = df[['X604', 'X614', 'X623', 'X716']].sum(axis=1) + ((10000-df.X507.clip(0,np.inf))/10000)*(df.X513 + df.X526)"
   ]
  },
  {
   "cell_type": "markdown",
   "metadata": {},
   "source": [
    "**Other residential real estate**<a id=\"oresre\"></a>\n",
    "\n",
    "Land contracts/notes, properties other than principal residence, time shares, vacation homes\n",
    "\n",
    "<sub><a href=\"#asset\">(Back to asset index)</a></sub>"
   ]
  },
  {
   "cell_type": "code",
   "execution_count": null,
   "metadata": {
    "collapsed": true
   },
   "outputs": [],
   "source": [
    "if year >= 2013:\n",
    "    df['oresre'] = (df[['X1306','X1310']].max(axis=1) + df[['X1325','X1329']].max(axis=1) + df.X1339.clip(0,np.inf)\n",
    "                  + df.X1706.clip(0,np.inf)*(df.X1705/10000)*(df.X1703.isin([12,14,21,22,25,40,41,42,43,44,49,50,52,999])).astype(int)\n",
    "                  + df.X1806.clip(0,np.inf)*(df.X1805/10000)*(df.X1803.isin([12,14,21,22,25,40,41,42,43,44,49,50,52,999])).astype(int)\n",
    "                  + df.X2002.clip(0,np.inf) )\n",
    "elif year==2010:\n",
    "    df['oresre'] = (df[['X1405','X1409']].max(axis=1) + df[['X1505','X1509']].max(axis=1) + df.X1619.clip(0,np.inf)\n",
    "                  + df.X1706.clip(0,np.inf)*(df.X1705/10000)*(df.X1703.isin([12,14,21,22,25,40,41,42,43,44,49,50,52,999])).astype(int)\n",
    "                  + df.X1806.clip(0,np.inf)*(df.X1805/10000)*(df.X1803.isin([12,14,21,22,25,40,41,42,43,44,49,50,52,999])).astype(int)\n",
    "                  + df.X2002.clip(0,np.inf) )\n",
    "else:\n",
    "    df['oresre'] = (df[['X1405','X1409']].max(axis=1) + df[['X1505','X1509']].max(axis=1) + df.X1619.clip(0,np.inf)\n",
    "                  + df[['X1605','X1609']].max(axis=1)\n",
    "                  + df.X1706.clip(0,np.inf)*(df.X1705/10000)*(df.X1703.isin([12,14,21,22,25,40,41,42,43,44,49,50,52,999])).astype(int)\n",
    "                  + df.X1806.clip(0,np.inf)*(df.X1805/10000)*(df.X1803.isin([12,14,21,22,25,40,41,42,43,44,49,50,52,999])).astype(int)\n",
    "                  + df.X1906.clip(0,np.inf)*(df.X1905/10000)*(df.X1903.isin([12,14,21,22,25,40,41,42,43,44,49,50,52,999])).astype(int)\n",
    "                  + df.X2002.clip(0,np.inf) )"
   ]
  },
  {
   "cell_type": "markdown",
   "metadata": {},
   "source": [
    "**Net equity in nonresidential real estate**<a id = \"nnresre\"></a>\n",
    "\n",
    "<sub><a href=\"#asset\">(Back to asset index)</a></sub>"
   ]
  },
  {
   "cell_type": "code",
   "execution_count": null,
   "metadata": {
    "collapsed": false
   },
   "outputs": [],
   "source": [
    "if year >= 2010:\n",
    "    df['nnresre'] =(df.X1706.clip(0,np.inf)*(df.X1705/10000)*(df.X1703.isin([1,2,3,4,5,6,7,10,11,13,15,24,45,46,47,48,51,53,-7])).astype(int)\n",
    "                  + df.X1806.clip(0,np.inf)*(df.X1805/10000)*(df.X1803.isin([1,2,3,4,5,6,7,10,11,13,15,24,45,46,47,48,51,53,-7])).astype(int)\n",
    "                  + df.X2012.clip(0,np.inf)\n",
    "                  - df.X1715*(df.X1705/10000)*(df.X1703.isin([1,2,3,4,5,6,7,10,11,13,15,24,45,46,47,48,51,53,-7])).astype(int)\n",
    "                  - df.X1815*(df.X1805/10000)*(df.X1803.isin([1,2,3,4,5,6,7,10,11,13,15,24,45,46,47,48,51,53,-7])).astype(int)\n",
    "                  - df.X2016 )\n",
    "else:\n",
    "    df['nnresre'] =(df.X1706.clip(0,np.inf)*(df.X1705/10000)*(df.X1703.isin([1,2,3,4,5,6,7,10,11,13,15,24,45,46,47,48,51,53,-7])).astype(int)\n",
    "                  + df.X1806.clip(0,np.inf)*(df.X1805/10000)*(df.X1803.isin([1,2,3,4,5,6,7,10,11,13,15,24,45,46,47,48,51,53,-7])).astype(int)\n",
    "                  + df.X1906.clip(0,np.inf)*(df.X1905/10000)*(df.X1903.isin([1,2,3,4,5,6,7,10,11,13,15,24,45,46,47,48,51,53,-7])).astype(int)\n",
    "                  + df.X2012.clip(0,np.inf)\n",
    "                  - df.X1715*(df.X1705/10000)*(df.X1703.isin([1,2,3,4,5,6,7,10,11,13,15,24,45,46,47,48,51,53,-7])).astype(int)\n",
    "                  - df.X1815*(df.X1805/10000)*(df.X1803.isin([1,2,3,4,5,6,7,10,11,13,15,24,45,46,47,48,51,53,-7])).astype(int)\n",
    "                  - df.X1915*(df.X1905/10000)*(df.X1903.isin([1,2,3,4,5,6,7,10,11,13,15,24,45,46,47,48,51,53,-7])).astype(int)\n",
    "                  - df.X2016 )\n",
    "\n",
    "df['flag781'] = 0\n",
    "df.loc[df.nnresre!=0, 'flag781'] = 1\n",
    "df.loc[df.nnresre!=0, 'nnresre'] = (df.nnresre - df.X2723*(df.X2710==78).astype(int) - df.X2740*(df.X2727==78).astype(int)\n",
    "                                   - df.X2823*(df.X2810==78).astype(int) - df.X2840*(df.X2827==78).astype(int)\n",
    "                                   - df.X2923*(df.X2910==78).astype(int) - df.X2940*(df.X2927==78).astype(int) )"
   ]
  },
  {
   "cell_type": "markdown",
   "metadata": {},
   "source": [
    "**Business Interests** <a id=\"bus\"></a>\n",
    "\n",
    "* For businesses where the HH has an active interest, value is net equity if business were sold today, plus loans from HH to\n",
    "  business, minus loans from business to HH not previously reported, plus value of personal assets used as collateral for\n",
    "  business loans that were reported earlier \n",
    "  \n",
    "* For businesses where the HH does not have an active interest, market value of the interest;\n",
    "\n",
    "<sub><a href=\"#asset\">(Back to asset index)</a></sub>"
   ]
  },
  {
   "cell_type": "code",
   "execution_count": null,
   "metadata": {
    "collapsed": false
   },
   "outputs": [],
   "source": [
    "if year >= 2010:\n",
    "    df['actbus'] = (df.X3129.clip(0,np.inf) + df.X3124.clip(0,np.inf) - df.X3126.clip(0,np.inf)*(df.X3127==5)\n",
    "                  + df.X3121.clip(0,np.inf)*(df.X3122.isin([1,6])).astype(int) + df.X3229.clip(0,np.inf)\n",
    "                  + df.X3224.clip(0,np.inf) - df.X3226.clip(0,np.inf)*(df.X3227==5).astype(int)\n",
    "                  + df.X3221.clip(0,np.inf)*(df.X3222.isin([1,6])) + df.X3335.clip(0,np.inf) \n",
    "                  + df.farmbus )\n",
    "    \n",
    "    df['nonactbus'] = (df.X3408.clip(0,np.inf) + df.X3412.clip(0,np.inf) + df.X3416.clip(0,np.inf)\n",
    "                     + df.X3420.clip(0,np.inf) + df.X3452.clip(0,np.inf) + df.X3428.clip(0,np.inf) )\n",
    "    \n",
    "    df['bus'] = df.actbus + df.nonactbus\n",
    "else:\n",
    "    \n",
    "    df['actbus'] = (df.X3129.clip(0,np.inf) + df.X3124.clip(0,np.inf) - df.X3126.clip(0,np.inf)*(df.X3127==5)\n",
    "                  + df.X3121.clip(0,np.inf)*(df.X3122.isin([1,6])).astype(int) + df.X3229.clip(0,np.inf)\n",
    "                  + df.X3224.clip(0,np.inf) - df.X3226.clip(0,np.inf)*(df.X3227==5).astype(int)\n",
    "                  + df.X3221.clip(0,np.inf)*(df.X3222.isin([1,6]).astype(int)) + df.X3329.clip(0, np.inf) \n",
    "                  + df.X3324.clip(0,np.inf) - df.X3326.clip(0,np.inf)*(df.X3327==5).astype(int)\n",
    "                  + df.X3321.clip(0,np.inf)*(df.X3322.isin([1,6])).astype(int) + df.X3335.clip(0,np.inf) \n",
    "                  + df.farmbus )\n",
    "    \n",
    "    df['nonactbus'] = (df.X3408.clip(0,np.inf) + df.X3412.clip(0,np.inf) + df.X3416.clip(0,np.inf)\n",
    "                     + df.X3420.clip(0,np.inf) + df.X3424.clip(0,np.inf) + df.X3428.clip(0,np.inf) )\n",
    "    \n",
    "    df['bus'] = df.actbus + df.nonactbus"
   ]
  },
  {
   "cell_type": "markdown",
   "metadata": {},
   "source": [
    "**Other Nonfinancial Assets** <a id=\"othnfin\"></a>\n",
    "\n",
    "Total value of miscellaneous assets minus other financial assets; includes gold, silver (incl. silverware), other metals or metals NA type, jewelry, gem stones (incl. antique), cars (antique or classic), antiques, furniture, art objects, paintings, sculpture, textile art, ceramic art, photographs, (rare) books, coin collections, stamp collections, guns, misc. real estate (exc. cemetery), cemetery plots, china, figurines, crystal/glassware, musical instruments, livestock, horses, crops, oiental rugs, furs, other collections, incl. baseball cards, records, wine, oil/gas/mineral leases or investments, computer, equipment/tools, association or exchange membership, and other miscellaneous assets\n",
    "\n",
    "<sub><a href=\"#asset\">(Back to asset index)</a></sub>"
   ]
  },
  {
   "cell_type": "code",
   "execution_count": null,
   "metadata": {
    "collapsed": true
   },
   "outputs": [],
   "source": [
    "df['othnfin'] = df[['X4022', 'X4026', 'X4030', 'X4018']].sum(axis=1) - df.othfin"
   ]
  },
  {
   "cell_type": "markdown",
   "metadata": {},
   "source": [
    "**Total Nonfinancial Assets**\n",
    "\n",
    "Vehicles, houses, other residential properties, nonresidential real estate, business assets, and other nonfinancial assets:"
   ]
  },
  {
   "cell_type": "code",
   "execution_count": null,
   "metadata": {
    "collapsed": false
   },
   "outputs": [],
   "source": [
    "df['nfin'] = df.vehic + df.houses + df.oresre + df.nnresre + df.bus + df.othnfin\n",
    "\n",
    "# Total nonfinancial assets excluding primary residence\n",
    "df['nhnfin'] = df.nfin - df.houses"
   ]
  },
  {
   "cell_type": "markdown",
   "metadata": {},
   "source": [
    "**Total Assets**"
   ]
  },
  {
   "cell_type": "code",
   "execution_count": null,
   "metadata": {
    "collapsed": false
   },
   "outputs": [],
   "source": [
    "df['asset'] = df.fin + df.nfin"
   ]
  },
  {
   "cell_type": "markdown",
   "metadata": {},
   "source": [
    "## Consolidating Liabilities side <a id=\"debt\"></a>\n",
    "<a href=\"#index\">Back to index</a>\n",
    "\n",
    "As with assets, liabilities are coded in a number of variables and we have to consolidate them into single variables. The categories of liabilities in the SCF are:\n",
    "\n",
    "1. [Housing Debt](#mrthel) (mortgage, home equity loans, HELOCs)\n",
    "2. [Credit Card Balances](#ccbal)\n",
    "2. [Installment Loans](#install)\n",
    "4. [Margin Loans](#outmarg)\n",
    "5. [Pension Loans](#outpen)\n",
    "6. [Miscellaneous Debts](#odebt)"
   ]
  },
  {
   "cell_type": "markdown",
   "metadata": {},
   "source": [
    "#### Housing Debt <a id=\"mrthel\"></a>\n",
    "\n",
    "* How much is still owed on this land contract/loan: x805, x905, x1005\n",
    "* Other loans to purchase property, amount still owed: x1044\n",
    "* Do you still owe any money on loans for this property (#1 to #3): x1416, x1516, x1616\n",
    "* How much do you still owe on loans for other properties? x1621"
   ]
  },
  {
   "cell_type": "code",
   "execution_count": null,
   "metadata": {
    "collapsed": false
   },
   "outputs": [],
   "source": [
    "df['heloc'] = 0\n",
    "df['mrthel'] = 0 \n",
    "\n",
    "cond = (df.X1108+df.X1119+df.X1130)>=1\n",
    "\n",
    "df.loc[cond, 'heloc'] = ( df.X1108*(df.X1103==1).astype(int) + df.X1119*(df.X1114==1).astype(int) \n",
    "                        + df.X1130*(df.X1125==1).astype(int) + df.X1136.clip(0,np.inf)*(df.X1108*(df.X1103==1).astype(int) \n",
    "                        + df.X1119*(df.X1114==1).astype(int) \n",
    "                        + df.X1130*(df.X1125==1).astype(int))/(df.X1108 + df.X1119 + df.X1130) )\n",
    "    \n",
    "df.loc[cond, 'mrthel'] = ( df.X805 + df.X905 + df.X1005 + df.X1108*(df.X1103==1).astype(int) \n",
    "                         + df.X1119*(df.X1114==1).astype(int) + df.X1130*(df.X1125==1).astype(int) \n",
    "                         + df.X1136.clip(0,np.inf)*(df.X1108*(df.X1103==1).astype(int) + df.X1119*(df.X1114==1).astype(int) \n",
    "                         + df.X1130*(df.X1125==1).astype(int))/(df.X1108+df.X1119+df.X1130) )\n",
    "\n",
    "df.loc[~cond, 'mrthel'] = df.X805 + df.X905 + df.X1005 + 0.5*(df.X1136.clip(0,np.inf)*(df.houses>0).astype(int))\n",
    "\n",
    "df['nhmort'] = df.mrthel - df.heloc\n",
    "\n",
    "df['othloc'] = 0\n",
    "\n",
    "df.loc[cond, 'othloc'] = (df.X1108*(df.X1103!=1).astype(int) + df.X1119*(df.X1114!=1).astype(int)\n",
    "                        + df.X1130*(df.X1125!=1).astype(int) + df.X1136.clip(0,np.inf)*(df.X1108*(df.X1103!=1).astype(int))\n",
    "                        + df.X1119*(df.X1114!=1).astype(int) \n",
    "                        +(df.X1130*(df.X1125!=1).astype(int))/(df.X1108+df.X1119+df.X1130) )\n",
    "\n",
    "df.loc[~cond, 'othloc'] = ((df.houses<=0).astype(int) + 0.5*(df.houses>0).astype(int))*df.X1136.clip(0,np.inf)"
   ]
  },
  {
   "cell_type": "code",
   "execution_count": null,
   "metadata": {
    "collapsed": false
   },
   "outputs": [],
   "source": [
    "varlist = [12,14,21,22,25,40,41,42,43,44,49,50,52,53,999]\n",
    "\n",
    "df['mort1'] = df.X1715*df.X1705/10000*(df.X1703.isin(varlist).astype(int))\n",
    "df['mort2'] = df.X1815*df.X1805/10000*(df.X1803.isin(varlist).astype(int))\n",
    "df['mort3'] = 0\n",
    "\n",
    "if year <= 2007:\n",
    "    df['mort3'] = df.X1915*df.X1905/10000*(df.X1903.isin(varlist).astype(int))\n",
    "    df['resdbt'] = df.X1417 + df.X1517 + df.X1617 + df.X1621 + df.mort1 + df.mort2 + df.mort3 + df.X2006\n",
    "elif year == 2010:\n",
    "    df['resdbt'] = df.X1417 + df.X1517 + df.X1621 + df.mort1 + df.mort2 + df.X2006\n",
    "elif year == 2013: \n",
    "    df['resdbt'] = df.X1318 + df.X1337 + df.X1342 + df.mort1 + df.mort2 + df.X2006\n",
    "\n",
    "cond = (df.flag781!=1) & (df.oresre>0)\n",
    "df['flag782'] = 0\n",
    "df.loc[cond, 'flag782'] = 1\n",
    "df.loc[cond, 'resdbt'] = (df.resdbt + df.X2723*(df.X2710==78).astype(int) + df.X2740*(df.X2727==78).astype(int) \n",
    "                       + df.X2823*(df.X2810==78).astype(int) + df.X2840*(df.X2827==78).astype(int) \n",
    "                       + df.X2923*(df.X2910==78).astype(int) + df.X2940*(df.X2927==78).astype(int) )\n",
    "\n",
    "\n",
    "df['flag67'] = 0\n",
    "df.loc[df.oresre>0, 'flag67'] = 1\n",
    "df.loc[df.oresre>0, 'resdbt'] = (df.resdbt + df.X2723*(df.X2710==67).astype(int) + df.X2740*(df.X2727==67).astype(int) \n",
    "                               + df.X2823*(df.X2810==67).astype(int) + df.X2840*(df.X2827==67).astype(int)\n",
    "                               + df.X2923*(df.X2910==67).astype(int) + df.X2940*(df.X2927==67).astype(int) )"
   ]
  },
  {
   "cell_type": "markdown",
   "metadata": {},
   "source": [
    "**Credit Card balances:** <a id=\"ccbal\"></a>\n",
    "\n",
    "* Total amount owed on credit card #1 to #5: x413, x421, x424, x427, x430\n",
    "* Total amount owed on all other cards: x7575\n",
    "*   NOTE: from 1992 forward, specific question addresses revolving\n",
    "    debt at stores, and this amount is treated as credit card debt here;\n",
    "*   convenience use of credit cards - NOCCBAL, excludes charge\n",
    "    accounts at stores;\n",
    "    \n",
    "<sub><a href=\"#debt\">(Back to debt index)</a></sub>"
   ]
  },
  {
   "cell_type": "code",
   "execution_count": null,
   "metadata": {
    "collapsed": true
   },
   "outputs": [],
   "source": [
    "if year >= 2010:\n",
    "    df['ccbal'] = (df.X427.clip(0,np.inf) + df.X413.clip(0,np.inf) + df.X421.clip(0,np.inf) \n",
    "                 + df.X430.clip(0,np.inf) + df.X7575.clip(0,np.inf) )\n",
    "    \n",
    "    df['noccbal'] = ((df.X427.clip(0,np.inf) + df.X413.clip(0,np.inf) + df.X421.clip(0,np.inf) \n",
    "                   + df.X430.clip(0,np.inf) )==0)\n",
    "elif year >= 1992:\n",
    "    df['ccbal'] = (df.X427.clip(0,np.inf) + df.X413.clip(0,np.inf) + df.X421.clip(0,np.inf) \n",
    "                 + df.X430.clip(0,np.inf) + df.X424.clip(0,np.inf) + df.X7575.clip(0,np.inf) )\n",
    "    \n",
    "    df['noccbal'] = ((df.X427.clip(0,np.inf) + df.X413.clip(0,np.inf) + df.X421.clip(0,np.inf) \n",
    "                   + df.X430.clip(0,np.inf) + df.X424.clip(0,np.inf) )==0)\n",
    "    \n",
    "else:\n",
    "    df['ccbal'] = (df.X427.clip(0,np.inf) + df.X413.clip(0,np.inf) + df.X421.clip(0,np.inf) \n",
    "                 + df.X430.clip(0,np.inf) + df.X424.clip(0,np.inf) )\n",
    "    \n",
    "    df['noccbal'] = ((df.X427.clip(0,np.inf) + df.X413.clip(0,np.inf) + df.X421.clip(0,np.inf) \n",
    "                   + df.X430.clip(0,np.inf) + df.X424.clip(0,np.inf) )==0)"
   ]
  },
  {
   "cell_type": "markdown",
   "metadata": {},
   "source": [
    "**Installment Loans** <a id=\"install\"></a>\n",
    "\n",
    "<sub><a href=\"#debt\">(Back to debt index)</a></sub>"
   ]
  },
  {
   "cell_type": "code",
   "execution_count": null,
   "metadata": {
    "collapsed": false
   },
   "outputs": [],
   "source": [
    "if year >= 1995:\n",
    "    df['veh_inst'] = df.X2218 + df.X2318 + df.X2418 + df.X7169 + df.X2424 + df.X2519 + df.X2619 + df.X2625\n",
    "    \n",
    "    df['edn_inst'] =(df.X7824 + df.X7847 + df.X7870 + df.X7924 + df.X7947 + df.X7970 + df.X7179 +\n",
    "                     df.X2723*(df.X2710==83).astype(int) + df.X2740*(df.X2727==83).astype(int)\n",
    "                   + df.X2823*(df.X2810==83).astype(int) + df.X2840*(df.X2827==83).astype(int)\n",
    "                   + df.X2923*(df.X2910==83).astype(int) + df.X2940*(df.X2927==83).astype(int) )\n",
    "    \n",
    "    df['install'] = (df.X2218 + df.X2318 + df.X2418 + df.X7169 + df.X2424 + df.X2519 + df.X2619 + df.X2625 \n",
    "                   + df.X7183 + df.X7824 + df.X7847 + df.X7870 + df.X7924 + df.X7947 + df.X7970 + df.X7179\n",
    "                   + df.X1044 + df.X1215 + df.X1219 )\n",
    "elif year == 1992:\n",
    "    df['veh_inst'] = df.X2218 + df.X2318 + df.X2418 +  df.X2424 + df.X2519 + df.X2619 + df.X2625\n",
    "                    \n",
    "    df['edn_inst'] =(df.X7824 + df.X7847 + df.X7870 + df.X7924 + df.X7947 + df.X7970 + \n",
    "                     df.X2723*(df.X2710==83).astype(int) + df.X2740*(df.X2727==83).astype(int)\n",
    "                   + df.X2823*(df.X2810==83).astype(int) + df.X2840*(df.X2827==83).astype(int)\n",
    "                   + df.X2923*(df.X2910==83).astype(int) + df.X2940*(df.X2927==83).astype(int) )\n",
    "                     \n",
    "    df['install'] = (df.X2218 + df.X2318 + df.X2418 + df.X2424 + df.X2519 + df.X2619 + df.X2625 \n",
    "                   + df.X7824 + df.X7847 + df.X7870 + df.X7924 + df.X7947 + df.X7970 + df.X1044 \n",
    "                   + df.X1215 + df.X1219 )\n",
    "else:\n",
    "    df['veh_inst'] = df.X2218 + df.X2318 + df.X2418 +  df.X2424 + df.X2519 + df.X2619 + df.X2625\n",
    "                     \n",
    "    df['edn_inst'] =(df.X2723*(df.X2710==83).astype(int) + df.X2740*(df.X2727==83).astype(int)\n",
    "                   + df.X2823*(df.X2810==83).astype(int) + df.X2840*(df.X2827==83).astype(int)\n",
    "                   + df.X2923*(df.X2910==83).astype(int) + df.X2940*(df.X2927==83).astype(int) )\n",
    "    \n",
    "    df['install'] = (df.X2218 + df.X2318 + df.X2418 + df.X2424 + df.X2519 + df.X2619 + df.X2625 \n",
    "                   + df.X1044 + df.X1215 + df.X1219)\n",
    "    \n",
    "cond = (df.flag781==0) & (df.flag782==0)\n",
    "df.loc[cond, 'install'] =(df.install +  df.X2723*(df.X2710==78).astype(int) + df.X2740*(df.X2727==78).astype(int) \n",
    "                        + df.X2823*(df.X2810==78).astype(int) + df.X2840*(df.X2827==78).astype(int) \n",
    "                        + df.X2923*(df.X2910==78).astype(int) + df.X2940*(df.X2927==78).astype(int) )\n",
    "\n",
    "df.loc[df.flag67==0, 'install'] =(df.install +  df.X2723*(df.X2710==67).astype(int) + df.X2740*(df.X2727==67).astype(int) \n",
    "                        + df.X2823*(df.X2810==67).astype(int) + df.X2840*(df.X2827==67).astype(int) \n",
    "                        + df.X2923*(df.X2910==67).astype(int) + df.X2940*(df.X2927==67).astype(int) )\n",
    "\n",
    "df.install +=(df.X2723*(~df.X2710.isin([67,78])).astype(int) + df.X2740*(~df.X2727.isin([67,78])).astype(int) \n",
    "            + df.X2823*(~df.X2810.isin([67,78])).astype(int) + df.X2840*(~df.X2827.isin([67,78])).astype(int) \n",
    "            + df.X2923*(~df.X2910.isin([67,78])).astype(int) + df.X2940*(~df.X2927.isin([67,78])).astype(int) )\n",
    "                        \n",
    "df['oth_inst'] = df.install - df.veh_inst - df.edn_inst"
   ]
  },
  {
   "cell_type": "markdown",
   "metadata": {},
   "source": [
    "**Margin Loans at Brokerages** <a id=\"outmarg\"></a>\n",
    "\n",
    "* Current balance on margin loans x3932\n",
    "\n",
    "<sub><a href=\"#debt\">(Back to debt index)</a></sub>"
   ]
  },
  {
   "cell_type": "code",
   "execution_count": null,
   "metadata": {
    "collapsed": false
   },
   "outputs": [],
   "source": [
    "if year == 1995:\n",
    "    df['outmarg'] = df.X3932.clip(0,np.inf)*(df.X7194==5).astype(int)\n",
    "else:\n",
    "    df['outmarg'] = df.X3932.clip(0,np.inf)"
   ]
  },
  {
   "cell_type": "markdown",
   "metadata": {},
   "source": [
    "**Pension loans** <a id=\"outpen\"></a>\n",
    "\n",
    "<sub><a href=\"#debt\">(Back to debt index)</a></sub>"
   ]
  },
  {
   "cell_type": "code",
   "execution_count": null,
   "metadata": {
    "collapsed": false
   },
   "outputs": [],
   "source": [
    "if year >= 2010:\n",
    "    df['outpen1']=df.X11027.clip(0,np.inf)*(df.X11070==5).astype(int)\n",
    "    df['outpen2']=df.X11127.clip(0,np.inf)*(df.X11170==5).astype(int)\n",
    "    df['outpen4']=df.X11327.clip(0,np.inf)*(df.X11370==5).astype(int)\n",
    "    df['outpen5']=df.X11427.clip(0,np.inf)*(df.X11470==5).astype(int)\n",
    "    df['outpen3']=0\n",
    "    df['outpen6']=0\n",
    "elif year >= 2004:\n",
    "    df['outpen1'] = df.X11027.clip(0,np.inf)*(df.X11070==5).astype(int)\n",
    "    df['outpen2'] = df.X11127.clip(0,np.inf)*(df.X11170==5).astype(int)\n",
    "    df['outpen3'] = df.X11227.clip(0,np.inf)*(df.X11270==5).astype(int)\n",
    "    df['outpen4'] = df.X11327.clip(0,np.inf)*(df.X11370==5).astype(int)\n",
    "    df['outpen5'] = df.X11427.clip(0,np.inf)*(df.X11470==5).astype(int)\n",
    "    df['outpen6'] = df.X11527.clip(0,np.inf)*(df.X11570==5).astype(int)\n",
    "else:\n",
    "    df['outpen1']=df.X4229.clip(0,np.inf)*(df.X4230==5).astype(int)\n",
    "    df['outpen2']=df.X4329.clip(0,np.inf)*(df.X4330==5).astype(int)\n",
    "    df['outpen3']=df.X4429.clip(0,np.inf)*(df.X4430==5).astype(int)\n",
    "    df['outpen4']=df.X4829.clip(0,np.inf)*(df.X4830==5).astype(int)\n",
    "    df['outpen5']=df.X4929.clip(0,np.inf)*(df.X4930==5).astype(int)\n",
    "    df['outpen6']=df.X5029.clip(0,np.inf)*(df.X5030==5).astype(int)\n",
    "    \n",
    "df['outpen'] = df[['outpen1', 'outpen2', 'outpen3', 'outpen4', 'outpen5', 'outpen6']].sum(axis=1)"
   ]
  },
  {
   "cell_type": "markdown",
   "metadata": {},
   "source": [
    "**Miscellaneous Debts** <a id=\"odebt\"></a>\n",
    "\n",
    "* How much do you owe that was not recorded earlier: x4032\n",
    "\n",
    "<sub><a href=\"#debt\">(Back to debt index)</a></sub>"
   ]
  },
  {
   "cell_type": "code",
   "execution_count": null,
   "metadata": {
    "collapsed": true
   },
   "outputs": [],
   "source": [
    "if year >= 2010:\n",
    "    df['odebt'] = (df.outpen1 + df.outpen2 + df.outpen4 + df.outpen5 + df.X4010.clip(0,np.inf)\n",
    "                 + df.X4032.clip(0,np.inf) + df.outmarg )\n",
    "else:\n",
    "    df['odebt'] = (df.outpen1 + df.outpen2 + df.outpen3 + df.outpen4 + df.outpen5 + df.outpen6 \n",
    "                 + df.X4010.clip(0,np.inf) + df.X4032.clip(0,np.inf) + df.outmarg )"
   ]
  },
  {
   "cell_type": "markdown",
   "metadata": {},
   "source": [
    "**Total Debt**\n",
    "\n",
    "Sum of mortgage/home equity debt, other residential debt, other lines of credit, credit card debt, installment debt and other debt (which inlcudes pension loans)\n",
    "\n",
    "<sub><a href=\"#debt\">(Back to debt index)</a></sub>"
   ]
  },
  {
   "cell_type": "code",
   "execution_count": null,
   "metadata": {
    "collapsed": true
   },
   "outputs": [],
   "source": [
    "df['debt'] = df.mrthel + df.resdbt + df.othloc + df.ccbal + df.install + df.odebt"
   ]
  },
  {
   "cell_type": "markdown",
   "metadata": {},
   "source": [
    "## Net Wealth"
   ]
  },
  {
   "cell_type": "code",
   "execution_count": null,
   "metadata": {
    "collapsed": false
   },
   "outputs": [],
   "source": [
    "df['networth'] = df.asset - df.debt"
   ]
  },
  {
   "cell_type": "markdown",
   "metadata": {},
   "source": [
    "## Leverage Ratio"
   ]
  },
  {
   "cell_type": "code",
   "execution_count": null,
   "metadata": {
    "collapsed": false
   },
   "outputs": [],
   "source": [
    "df['levratio'] = 0\n",
    "df.loc[(df.debt>0) & (df.asset>0), 'levratio'] = df.debt / df.asset\n",
    "df.loc[(df.debt>0) & (df.asset==0), 'levratio'] = 1"
   ]
  },
  {
   "cell_type": "markdown",
   "metadata": {},
   "source": [
    "## Debt-to-income Ratio"
   ]
  },
  {
   "cell_type": "code",
   "execution_count": null,
   "metadata": {
    "collapsed": false
   },
   "outputs": [],
   "source": [
    "df['debt2inc'] = 0\n",
    "df.loc[(df.debt>0) & (df.income>0), 'debt2inc'] = df.debt/df.income\n",
    "df.loc[(df.debt>0) & (df.income==0), 'debt2inc'] = 10"
   ]
  }
 ],
 "metadata": {
  "kernelspec": {
   "display_name": "Python 2",
   "language": "python",
   "name": "python2"
  },
  "language_info": {
   "codemirror_mode": {
    "name": "ipython",
    "version": 2
   },
   "file_extension": ".py",
   "mimetype": "text/x-python",
   "name": "python",
   "nbconvert_exporter": "python",
   "pygments_lexer": "ipython2",
   "version": "2.7.8"
  }
 },
 "nbformat": 4,
 "nbformat_minor": 0
}
